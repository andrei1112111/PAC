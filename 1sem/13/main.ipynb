{
 "cells": [
  {
   "cell_type": "code",
   "id": "initial_id",
   "metadata": {
    "collapsed": true,
    "ExecuteTime": {
     "end_time": "2024-12-08T13:00:39.523652Z",
     "start_time": "2024-12-08T13:00:38.118174Z"
    }
   },
   "source": "import torch",
   "outputs": [],
   "execution_count": 1
  },
  {
   "metadata": {
    "ExecuteTime": {
     "end_time": "2024-12-08T13:00:39.539294Z",
     "start_time": "2024-12-08T13:00:39.535103Z"
    }
   },
   "cell_type": "code",
   "source": [
    "import torch.nn as nn\n",
    "\n",
    "\n",
    "class SimpleModel(nn.Module):\n",
    "    def __init__(self, in_ch, out_ch):\n",
    "        \"\"\"Регистрация блоков\"\"\"\n",
    "        super().__init__()\n",
    "        self.fc1 = nn.Linear(in_ch, 32)  # Полносвязный слой 1\n",
    "        self.fc2 = nn.Linear(32, out_ch, bias=False)  # Полносвязный слой 2\n",
    "        self.relu = nn.ReLU()  # Функция активации\n",
    "        \n",
    "    def forward(self, x):\n",
    "        \"\"\"Прямой проход\"\"\"\n",
    "        h = self.fc1(x)\n",
    "        h = self.relu(h)\n",
    "        h = self.fc2(h)\n",
    "        y = self.relu(h)\n",
    "        return y"
   ],
   "id": "f7251f4695f4d249",
   "outputs": [],
   "execution_count": 2
  },
  {
   "metadata": {
    "ExecuteTime": {
     "end_time": "2024-12-08T13:00:39.547396Z",
     "start_time": "2024-12-08T13:00:39.544712Z"
    }
   },
   "cell_type": "code",
   "source": "import torch.utils.data as data",
   "id": "b49750c12a219f23",
   "outputs": [],
   "execution_count": 3
  },
  {
   "metadata": {
    "ExecuteTime": {
     "end_time": "2024-12-08T13:00:39.558640Z",
     "start_time": "2024-12-08T13:00:39.553059Z"
    }
   },
   "cell_type": "code",
   "source": [
    "class GeneratorDataset(data.Dataset):\n",
    "    def __init__(self, in_size, out_size, num_samples, func='sin'):\n",
    "        super().__init__()\n",
    "        self.num_samples = num_samples\n",
    "        self.in_size = in_size\n",
    "        self.out_size = out_size\n",
    "        self.func = func\n",
    "        \n",
    "    def __getitem__(self, index):\n",
    "        x = torch.rand(self.in_size)\n",
    "        if self.func == 'sin':\n",
    "            x = torch.sin(x)\n",
    "        elif self.func == 'cos':\n",
    "            x = torch.cos(x)\n",
    "        y = x[:self.out_size].clone()\n",
    "        return x, y\n",
    "    \n",
    "    def __len__(self):\n",
    "        return self.num_samples"
   ],
   "id": "b0d588866ddf3cfb",
   "outputs": [],
   "execution_count": 4
  },
  {
   "metadata": {
    "ExecuteTime": {
     "end_time": "2024-12-08T13:00:39.716837Z",
     "start_time": "2024-12-08T13:00:39.694135Z"
    }
   },
   "cell_type": "code",
   "source": [
    "dataset = GeneratorDataset(64, 10, 128*4)\n",
    "dataloader = data.DataLoader(dataset, batch_size=16)\n",
    "for x, y in dataloader:\n",
    "    break\n",
    "\n",
    "(x.shape, y.shape)"
   ],
   "id": "f1c20e6e414971c2",
   "outputs": [
    {
     "data": {
      "text/plain": [
       "(torch.Size([16, 64]), torch.Size([16, 10]))"
      ]
     },
     "execution_count": 5,
     "metadata": {},
     "output_type": "execute_result"
    }
   ],
   "execution_count": 5
  },
  {
   "metadata": {
    "ExecuteTime": {
     "end_time": "2024-12-08T13:00:40.336026Z",
     "start_time": "2024-12-08T13:00:39.762207Z"
    }
   },
   "cell_type": "code",
   "source": [
    "# model = SimpleModel(64, 10)\n",
    "\n",
    "model1 = nn.Sequential(  # TASK1\n",
    "    nn.Linear(64, 32),\n",
    "    nn.ReLU(),\n",
    "    nn.Linear(32, 10, bias=False),\n",
    "    nn.ReLU()\n",
    ")\n",
    "\n",
    "l1_loss = nn.L1Loss()\n",
    "opt = torch.optim.Adam(model1.parameters(), lr=0.001)"
   ],
   "id": "5428639f4236a2ff",
   "outputs": [],
   "execution_count": 6
  },
  {
   "metadata": {
    "ExecuteTime": {
     "end_time": "2024-12-08T13:00:40.428316Z",
     "start_time": "2024-12-08T13:00:40.347739Z"
    }
   },
   "cell_type": "code",
   "source": [
    "for x, y in dataloader:\n",
    "    opt.zero_grad()\n",
    "    \n",
    "    y_pred = model1(x)\n",
    "    loss = l1_loss(y, y_pred)\n",
    "    loss.backward()\n",
    "    print('Loss', loss.item())\n",
    "    opt.step()"
   ],
   "id": "5e8640d784e88fa6",
   "outputs": [
    {
     "name": "stdout",
     "output_type": "stream",
     "text": [
      "Loss 0.4300653338432312\n",
      "Loss 0.38091498613357544\n",
      "Loss 0.4234698414802551\n",
      "Loss 0.3976514935493469\n",
      "Loss 0.3855021893978119\n",
      "Loss 0.3838973939418793\n",
      "Loss 0.3696579039096832\n",
      "Loss 0.3432251214981079\n",
      "Loss 0.3031436800956726\n",
      "Loss 0.3417479991912842\n",
      "Loss 0.3398483991622925\n",
      "Loss 0.2947714924812317\n",
      "Loss 0.32756882905960083\n",
      "Loss 0.27878138422966003\n",
      "Loss 0.2802906930446625\n",
      "Loss 0.284973680973053\n",
      "Loss 0.2696714699268341\n",
      "Loss 0.26130810379981995\n",
      "Loss 0.250774085521698\n",
      "Loss 0.2344980537891388\n",
      "Loss 0.23825153708457947\n",
      "Loss 0.22902417182922363\n",
      "Loss 0.23803266882896423\n",
      "Loss 0.24089765548706055\n",
      "Loss 0.25799664855003357\n",
      "Loss 0.24811188876628876\n",
      "Loss 0.25032320618629456\n",
      "Loss 0.22613541781902313\n",
      "Loss 0.2794349193572998\n",
      "Loss 0.24040766060352325\n",
      "Loss 0.25948700308799744\n",
      "Loss 0.2425203025341034\n"
     ]
    }
   ],
   "execution_count": 7
  },
  {
   "metadata": {},
   "cell_type": "markdown",
   "source": "### Task2",
   "id": "2c0d3b3178665a7"
  },
  {
   "metadata": {
    "ExecuteTime": {
     "end_time": "2024-12-08T13:01:10.746634Z",
     "start_time": "2024-12-08T13:01:10.741378Z"
    }
   },
   "cell_type": "code",
   "source": [
    "class ThreeLayerModel(nn.Module):\n",
    "    def __init__(self):\n",
    "        super().__init__()\n",
    "        self.fc1 = nn.Linear(256, 64)\n",
    "        self.fc2 = nn.Linear(64, 16)\n",
    "        self.fc3 = nn.Linear(16, 4)\n",
    "        \n",
    "        self.relu = nn.ReLU()\n",
    "        self.tanh = nn.Tanh()\n",
    "        self.softmax = nn.Softmax(dim=1)\n",
    "        \n",
    "    def forward(self, x):\n",
    "        h = self.fc1(x)\n",
    "        h = self.relu(h)\n",
    "        h = self.fc2(h)\n",
    "        h = self.tanh(h)\n",
    "        h = self.fc3(h)\n",
    "        y = self.softmax(h)\n",
    "        \n",
    "        return y\n"
   ],
   "id": "81991d8fa141f053",
   "outputs": [],
   "execution_count": 15
  },
  {
   "metadata": {
    "ExecuteTime": {
     "end_time": "2024-12-08T13:01:43.592273Z",
     "start_time": "2024-12-08T13:01:43.522049Z"
    }
   },
   "cell_type": "code",
   "source": [
    "dataset = GeneratorDataset(256, 4, 128*10)\n",
    "dataloader = data.DataLoader(dataset, batch_size=16)\n",
    "\n",
    "print(x.shape, y.shape)\n",
    "\n",
    "model2 = ThreeLayerModel()\n",
    "\n",
    "l1_loss = nn.L1Loss()\n",
    "opt = torch.optim.Adam(model2.parameters(), lr=0.001)\n",
    "\n",
    "for x, y in dataloader:\n",
    "    opt.zero_grad()\n",
    "    \n",
    "    y_pred = model2(x)\n",
    "    loss = l1_loss(y, y_pred)\n",
    "    loss.backward()\n",
    "    print('Loss', loss.item())\n",
    "    opt.step()"
   ],
   "id": "1d59a56962c72833",
   "outputs": [
    {
     "name": "stdout",
     "output_type": "stream",
     "text": [
      "torch.Size([16, 256]) torch.Size([16, 4])\n",
      "Loss 0.2399701625108719\n",
      "Loss 0.25749272108078003\n",
      "Loss 0.31736573576927185\n",
      "Loss 0.2625781297683716\n",
      "Loss 0.26918846368789673\n",
      "Loss 0.2722329795360565\n",
      "Loss 0.2567301094532013\n",
      "Loss 0.285795122385025\n",
      "Loss 0.3063666820526123\n",
      "Loss 0.24298465251922607\n",
      "Loss 0.26729029417037964\n",
      "Loss 0.284144788980484\n",
      "Loss 0.2818048298358917\n",
      "Loss 0.2665916085243225\n",
      "Loss 0.2687236964702606\n",
      "Loss 0.3049793541431427\n",
      "Loss 0.2924326956272125\n",
      "Loss 0.2954965829849243\n",
      "Loss 0.24641719460487366\n",
      "Loss 0.2870866060256958\n",
      "Loss 0.25466448068618774\n",
      "Loss 0.2965160608291626\n",
      "Loss 0.26691359281539917\n",
      "Loss 0.2788662016391754\n",
      "Loss 0.2705926299095154\n",
      "Loss 0.29452767968177795\n",
      "Loss 0.24601472914218903\n",
      "Loss 0.27437254786491394\n",
      "Loss 0.2976800203323364\n",
      "Loss 0.26413822174072266\n",
      "Loss 0.28709274530410767\n",
      "Loss 0.2871045470237732\n",
      "Loss 0.25708574056625366\n",
      "Loss 0.26958829164505005\n",
      "Loss 0.26479747891426086\n",
      "Loss 0.2608148157596588\n",
      "Loss 0.2625938653945923\n",
      "Loss 0.29312407970428467\n",
      "Loss 0.27680766582489014\n",
      "Loss 0.26262637972831726\n",
      "Loss 0.26383161544799805\n",
      "Loss 0.2542441487312317\n",
      "Loss 0.30500754714012146\n",
      "Loss 0.26323962211608887\n",
      "Loss 0.27858078479766846\n",
      "Loss 0.2910440266132355\n",
      "Loss 0.28480273485183716\n",
      "Loss 0.2947724759578705\n",
      "Loss 0.244385227560997\n",
      "Loss 0.28792956471443176\n",
      "Loss 0.29440659284591675\n",
      "Loss 0.27175581455230713\n",
      "Loss 0.2563250660896301\n",
      "Loss 0.2929864525794983\n",
      "Loss 0.2570907771587372\n",
      "Loss 0.26567551493644714\n",
      "Loss 0.31828969717025757\n",
      "Loss 0.3056698739528656\n",
      "Loss 0.26848509907722473\n",
      "Loss 0.2757783532142639\n",
      "Loss 0.2386447787284851\n",
      "Loss 0.2685309052467346\n",
      "Loss 0.27982833981513977\n",
      "Loss 0.28329581022262573\n",
      "Loss 0.27703559398651123\n",
      "Loss 0.26903417706489563\n",
      "Loss 0.24206985533237457\n",
      "Loss 0.27695131301879883\n",
      "Loss 0.31148210167884827\n",
      "Loss 0.23050346970558167\n",
      "Loss 0.27313023805618286\n",
      "Loss 0.27972716093063354\n",
      "Loss 0.27743440866470337\n",
      "Loss 0.2715877294540405\n",
      "Loss 0.27282702922821045\n",
      "Loss 0.2718471586704254\n",
      "Loss 0.24916484951972961\n",
      "Loss 0.25802257657051086\n",
      "Loss 0.29777270555496216\n",
      "Loss 0.27252498269081116\n"
     ]
    }
   ],
   "execution_count": 18
  },
  {
   "metadata": {},
   "cell_type": "markdown",
   "source": "### Task3",
   "id": "13dc142c4affbc56"
  },
  {
   "metadata": {
    "ExecuteTime": {
     "end_time": "2024-12-08T13:05:28.110100Z",
     "start_time": "2024-12-08T13:05:28.099914Z"
    }
   },
   "cell_type": "code",
   "source": [
    "class SimpleCNN(nn.Module):\n",
    "    def __init__(self):\n",
    "        super().__init__()\n",
    "        \n",
    "        self.conv1 = nn.Conv2d(in_channels=3, out_channels=8, kernel_size=3, stride=1, padding=1)\n",
    "        self.pool1 = nn.MaxPool2d(kernel_size=2, stride=2)\n",
    "        \n",
    "        self.conv2 = nn.Conv2d(in_channels=8, out_channels=16, kernel_size=3, stride=1, padding=1)\n",
    "        self.pool2 = nn.MaxPool2d(kernel_size=2, stride=2)\n",
    "\n",
    "    def forward(self, x):\n",
    "        h = self.conv1(x)\n",
    "        h = torch.relu(h)\n",
    "        h = self.pool1(h)\n",
    "\n",
    "        h = self.conv2(h)\n",
    "        h = torch.relu(h)\n",
    "        y = self.pool2(h)\n",
    "\n",
    "        return y\n",
    "\n",
    "\n",
    "model3 = SimpleCNN()\n",
    "\n",
    "input_tensor = torch.randn(1, 3, 19, 19)  # 19x19x3\n",
    "\n",
    "output_tensor = model3(input_tensor)\n",
    "\n",
    "output_tensor.shape"
   ],
   "id": "1bf1fc37194943af",
   "outputs": [
    {
     "data": {
      "text/plain": [
       "torch.Size([1, 16, 4, 4])"
      ]
     },
     "execution_count": 22,
     "metadata": {},
     "output_type": "execute_result"
    }
   ],
   "execution_count": 22
  },
  {
   "metadata": {},
   "cell_type": "markdown",
   "source": "### Task4",
   "id": "842643a0120cb36c"
  },
  {
   "metadata": {
    "ExecuteTime": {
     "end_time": "2024-12-08T13:05:31.593216Z",
     "start_time": "2024-12-08T13:05:31.587403Z"
    }
   },
   "cell_type": "code",
   "source": [
    "output_tensor = output_tensor.reshape(1, 256)\n",
    "output_tensor.shape"
   ],
   "id": "ad6ccab14bd18d0f",
   "outputs": [
    {
     "data": {
      "text/plain": [
       "torch.Size([1, 256])"
      ]
     },
     "execution_count": 23,
     "metadata": {},
     "output_type": "execute_result"
    }
   ],
   "execution_count": 23
  },
  {
   "metadata": {
    "ExecuteTime": {
     "end_time": "2024-12-08T13:05:32.948732Z",
     "start_time": "2024-12-08T13:05:32.942766Z"
    }
   },
   "cell_type": "code",
   "source": [
    "y_pred = model2(output_tensor)\n",
    "y_pred.shape"
   ],
   "id": "ec8b9b9f89c69924",
   "outputs": [
    {
     "data": {
      "text/plain": [
       "torch.Size([1, 4])"
      ]
     },
     "execution_count": 24,
     "metadata": {},
     "output_type": "execute_result"
    }
   ],
   "execution_count": 24
  }
 ],
 "metadata": {
  "kernelspec": {
   "display_name": "Python 3",
   "language": "python",
   "name": "python3"
  },
  "language_info": {
   "codemirror_mode": {
    "name": "ipython",
    "version": 2
   },
   "file_extension": ".py",
   "mimetype": "text/x-python",
   "name": "python",
   "nbconvert_exporter": "python",
   "pygments_lexer": "ipython2",
   "version": "2.7.6"
  }
 },
 "nbformat": 4,
 "nbformat_minor": 5
}
