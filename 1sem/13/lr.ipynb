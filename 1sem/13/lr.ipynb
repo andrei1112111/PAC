{
 "cells": [
  {
   "cell_type": "code",
   "id": "initial_id",
   "metadata": {
    "collapsed": true,
    "ExecuteTime": {
     "end_time": "2024-12-08T14:03:11.317876Z",
     "start_time": "2024-12-08T14:03:09.990943Z"
    }
   },
   "source": [
    "import torch\n",
    "import numpy as np"
   ],
   "outputs": [],
   "execution_count": 2
  },
  {
   "metadata": {
    "ExecuteTime": {
     "end_time": "2024-12-08T14:03:11.334113Z",
     "start_time": "2024-12-08T14:03:11.322835Z"
    }
   },
   "cell_type": "code",
   "source": [
    "class SimpleNNBarebone:\n",
    "    def __init__(self):\n",
    "        self.W1 = torch.randn(256, 64, requires_grad=True) * 0.01\n",
    "        self.b1 = torch.zeros(64, requires_grad=True)\n",
    "        \n",
    "        self.W2 = torch.randn(64, 16, requires_grad=True) * 0.01\n",
    "        self.b2 = torch.zeros(16, requires_grad=True)\n",
    "        \n",
    "        self.W3 = torch.randn(16, 4, requires_grad=True) * 0.01\n",
    "        self.b3 = torch.zeros(4, requires_grad=True)\n",
    "    \n",
    "    \n",
    "    def sigmoid(self, x):\n",
    "        return 1 / (1 + torch.exp(-x))\n",
    "    \n",
    "    \n",
    "    def tanh(self, x):\n",
    "        return torch.tanh(x)\n",
    "    \n",
    "    \n",
    "    def softmax(self, x):\n",
    "        exp_x = torch.exp(x - torch.max(x, dim=-1, keepdim=True)[0])\n",
    "        return exp_x / torch.sum(exp_x, dim=-1, keepdim=True)\n",
    "    \n",
    "    \n",
    "    def forward(self, x):\n",
    "        self.x = x\n",
    "        self.z1 = x.mm(self.W1) + self.b1\n",
    "        self.a1 = self.sigmoid(self.z1)\n",
    "        \n",
    "        self.z2 = self.a1.mm(self.W2) + self.b2\n",
    "        self.a2 = self.tanh(self.z2)\n",
    "        \n",
    "        self.z3 = self.a2.mm(self.W3) + self.b3\n",
    "        self.a3 = self.softmax(self.z3)\n",
    "        \n",
    "        return self.a3\n",
    "    \n",
    "    \n",
    "    def compute_loss(self, output, target):\n",
    "        return -torch.sum(target * torch.log(output))\n",
    "\n",
    "\n",
    "    def backward(self, target, learning_rate=0.01):\n",
    "        m = target.size(0)\n",
    "        \n",
    "        dL_dz3 = self.a3 - target\n",
    "        \n",
    "        dL_dW3 = self.a2.T.mm(dL_dz3) / m\n",
    "        dL_db3 = torch.sum(dL_dz3, dim=0) / m\n",
    "        \n",
    "        dL_da2 = dL_dz3.mm(self.W3.T)\n",
    "        \n",
    "        dL_dz2 = dL_da2 * (1 - self.a2 ** 2)  # Производная Tanh\n",
    "        \n",
    "        dL_dW2 = self.a1.T.mm(dL_dz2) / m\n",
    "        dL_db2 = torch.sum(dL_dz2, dim=0) / m\n",
    "        \n",
    "        dL_da1 = dL_dz2.mm(self.W2.T)\n",
    "        \n",
    "        dL_dz1 = dL_da1 * (self.a1 * (1 - self.a1))  # Производная Sigmoid\n",
    "        \n",
    "        dL_dW1 = self.x.T.mm(dL_dz1) / m\n",
    "        dL_db1 = torch.sum(dL_dz1, dim=0) / m\n",
    "        \n",
    "        with torch.no_grad():\n",
    "            self.W1 -= learning_rate * dL_dW1\n",
    "            self.b1 -= learning_rate * dL_db1\n",
    "            self.W2 -= learning_rate * dL_dW2\n",
    "            self.b2 -= learning_rate * dL_db2\n",
    "            self.W3 -= learning_rate * dL_dW3\n",
    "            self.b3 -= learning_rate * dL_db3\n",
    "\n",
    "\n",
    "    def train_step(self, x, target, learning_rate=0.01):\n",
    "        output = self.forward(x)\n",
    "        loss = self.compute_loss(output, target)\n",
    "        self.backward(target, learning_rate)\n",
    "        return loss"
   ],
   "id": "9742fc6da1d7244",
   "outputs": [],
   "execution_count": 3
  },
  {
   "metadata": {
    "ExecuteTime": {
     "end_time": "2024-12-08T14:03:11.349301Z",
     "start_time": "2024-12-08T14:03:11.341144Z"
    }
   },
   "cell_type": "code",
   "source": [
    "model = SimpleNNBarebone()\n",
    "\n",
    "x = torch.randn(10, 256)\n",
    "    \n",
    "y = torch.eye(4)[torch.randint(0, 4, (10,))]\n"
   ],
   "id": "68e7dc09db35914a",
   "outputs": [],
   "execution_count": 4
  },
  {
   "metadata": {
    "ExecuteTime": {
     "end_time": "2024-12-08T14:03:19.831536Z",
     "start_time": "2024-12-08T14:03:19.824716Z"
    }
   },
   "cell_type": "code",
   "source": [
    "loss = model.train_step(x, y, learning_rate=0.1)\n",
    "f\"Loss after one step: {loss.item()}\""
   ],
   "id": "d2db6d8321338904",
   "outputs": [
    {
     "data": {
      "text/plain": [
       "'Loss after one step: 12.942134857177734'"
      ]
     },
     "execution_count": 39,
     "metadata": {},
     "output_type": "execute_result"
    }
   ],
   "execution_count": 39
  }
 ],
 "metadata": {
  "kernelspec": {
   "display_name": "Python 3",
   "language": "python",
   "name": "python3"
  },
  "language_info": {
   "codemirror_mode": {
    "name": "ipython",
    "version": 2
   },
   "file_extension": ".py",
   "mimetype": "text/x-python",
   "name": "python",
   "nbconvert_exporter": "python",
   "pygments_lexer": "ipython2",
   "version": "2.7.6"
  }
 },
 "nbformat": 4,
 "nbformat_minor": 5
}
