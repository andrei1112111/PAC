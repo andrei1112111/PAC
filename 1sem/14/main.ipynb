{
 "cells": [
  {
   "metadata": {
    "ExecuteTime": {
     "end_time": "2024-12-10T03:21:15.261851Z",
     "start_time": "2024-12-10T03:21:15.253818Z"
    }
   },
   "cell_type": "code",
   "source": [
    "import numpy as np\n",
    "import torch"
   ],
   "id": "9f1351faaaad7020",
   "outputs": [],
   "execution_count": 82
  },
  {
   "cell_type": "code",
   "id": "initial_id",
   "metadata": {
    "collapsed": true,
    "ExecuteTime": {
     "end_time": "2024-12-10T03:21:15.277718Z",
     "start_time": "2024-12-10T03:21:15.270530Z"
    }
   },
   "source": [
    "def im2col(img, kernel_size, stride=1, padding=0):\n",
    "    img_padded = torch.nn.functional.pad(img, (padding, padding, padding, padding), mode='constant', value=0)\n",
    "    \n",
    "    H, W = img_padded.shape\n",
    "    out_h = (H - kernel_size) // stride + 1\n",
    "    out_w = (W - kernel_size) // stride + 1\n",
    "    \n",
    "    cols = torch.zeros(kernel_size * kernel_size, out_h * out_w, device=img.device)\n",
    "    \n",
    "    col_idx = 0\n",
    "    for i in range(0, H - kernel_size + 1, stride):\n",
    "        for j in range(0, W - kernel_size + 1, stride):\n",
    "            patch = img_padded[i:i+kernel_size, j:j+kernel_size]\n",
    "            cols[:, col_idx] = patch.flatten()\n",
    "            col_idx += 1\n",
    "    \n",
    "    return cols\n"
   ],
   "outputs": [],
   "execution_count": 83
  },
  {
   "metadata": {
    "ExecuteTime": {
     "end_time": "2024-12-10T03:21:15.296906Z",
     "start_time": "2024-12-10T03:21:15.292422Z"
    }
   },
   "cell_type": "code",
   "source": [
    "def conv2d_im2col(img, kernel, stride=1, padding=0):\n",
    "    cols = im2col(img, kernel.shape[1], stride, padding)\n",
    "    \n",
    "    kernel_flat = kernel.view(kernel.shape[0], -1)\n",
    "    \n",
    "    cols_t = cols.T\n",
    "    \n",
    "    out = torch.matmul(cols_t, kernel_flat.view(kernel_flat.shape[0], -1).T)\n",
    "    \n",
    "    return out.view(kernel.shape[0], cols.shape[1]).T"
   ],
   "id": "1a15429a0a42218e",
   "outputs": [],
   "execution_count": 84
  },
  {
   "metadata": {
    "ExecuteTime": {
     "end_time": "2024-12-10T03:21:15.352041Z",
     "start_time": "2024-12-10T03:21:15.317223Z"
    }
   },
   "cell_type": "code",
   "source": [
    "img = torch.tensor([[1, 2, 3, 4, 5],\n",
    "                    [6, 7, 8, 9, 10],\n",
    "                    [11, 12, 13, 14, 15],\n",
    "                    [16, 17, 18, 19, 20],\n",
    "                    [21, 22, 23, 24, 25]], dtype=torch.float32)\n",
    "\n",
    "kernel = torch.tensor([[1, 0, -1],\n",
    "                       [1, 0, -1],\n",
    "                       [1, 0, -1]], dtype=torch.float32)\n",
    "\n",
    "img = img.unsqueeze(0)\n",
    "kernel = kernel.unsqueeze(0).unsqueeze(0)\n",
    "\n",
    "conv_layer = torch.nn.Conv2d(1, 1, kernel_size=3, stride=1, padding=0, bias=False)\n",
    "conv_layer.weight.data = kernel\n",
    "output_torch = conv_layer(img)\n",
    "\n",
    "output_im2col = conv2d_im2col(img.squeeze(0), kernel.squeeze(0), stride=1, padding=0)\n",
    "\n",
    "print(\"Результат из torch.nn.Conv2d:\")\n",
    "print(output_torch)\n",
    "\n",
    "print(output_im2col)\n",
    "\n",
    "if torch.allclose(output_torch, output_im2col, atol=1e-5):\n",
    "    print(\"\\nРезультаты совпадают!\")\n",
    "else:\n",
    "    print(\"\\nРезультаты не совпадают.\")"
   ],
   "id": "ff85dcb88f80e459",
   "outputs": [
    {
     "name": "stdout",
     "output_type": "stream",
     "text": [
      "Результат из torch.nn.Conv2d:\n",
      "tensor([[[-6., -6., -6.],\n",
      "         [-6., -6., -6.],\n",
      "         [-6., -6., -6.]]], grad_fn=<SqueezeBackward1>)\n",
      "tensor([[-6.],\n",
      "        [-6.],\n",
      "        [-6.],\n",
      "        [-6.],\n",
      "        [-6.],\n",
      "        [-6.],\n",
      "        [-6.],\n",
      "        [-6.],\n",
      "        [-6.]])\n"
     ]
    },
    {
     "ename": "RuntimeError",
     "evalue": "The size of tensor a (3) must match the size of tensor b (9) at non-singleton dimension 1",
     "output_type": "error",
     "traceback": [
      "\u001B[0;31m---------------------------------------------------------------------------\u001B[0m",
      "\u001B[0;31mRuntimeError\u001B[0m                              Traceback (most recent call last)",
      "Cell \u001B[0;32mIn[85], line 25\u001B[0m\n\u001B[1;32m     21\u001B[0m \u001B[38;5;28mprint\u001B[39m(output_torch)\n\u001B[1;32m     23\u001B[0m \u001B[38;5;28mprint\u001B[39m(output_im2col)\n\u001B[0;32m---> 25\u001B[0m \u001B[38;5;28;01mif\u001B[39;00m \u001B[43mtorch\u001B[49m\u001B[38;5;241;43m.\u001B[39;49m\u001B[43mallclose\u001B[49m\u001B[43m(\u001B[49m\u001B[43moutput_torch\u001B[49m\u001B[43m,\u001B[49m\u001B[43m \u001B[49m\u001B[43moutput_im2col\u001B[49m\u001B[43m,\u001B[49m\u001B[43m \u001B[49m\u001B[43matol\u001B[49m\u001B[38;5;241;43m=\u001B[39;49m\u001B[38;5;241;43m1e-5\u001B[39;49m\u001B[43m)\u001B[49m:\n\u001B[1;32m     26\u001B[0m     \u001B[38;5;28mprint\u001B[39m(\u001B[38;5;124m\"\u001B[39m\u001B[38;5;130;01m\\n\u001B[39;00m\u001B[38;5;124mРезультаты совпадают!\u001B[39m\u001B[38;5;124m\"\u001B[39m)\n\u001B[1;32m     27\u001B[0m \u001B[38;5;28;01melse\u001B[39;00m:\n",
      "\u001B[0;31mRuntimeError\u001B[0m: The size of tensor a (3) must match the size of tensor b (9) at non-singleton dimension 1"
     ]
    }
   ],
   "execution_count": 85
  }
 ],
 "metadata": {
  "kernelspec": {
   "display_name": "Python 3",
   "language": "python",
   "name": "python3"
  },
  "language_info": {
   "codemirror_mode": {
    "name": "ipython",
    "version": 2
   },
   "file_extension": ".py",
   "mimetype": "text/x-python",
   "name": "python",
   "nbconvert_exporter": "python",
   "pygments_lexer": "ipython2",
   "version": "2.7.6"
  }
 },
 "nbformat": 4,
 "nbformat_minor": 5
}
