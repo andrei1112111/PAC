{
 "cells": [
  {
   "cell_type": "code",
   "id": "initial_id",
   "metadata": {
    "collapsed": true,
    "ExecuteTime": {
     "end_time": "2024-10-29T03:23:02.650536Z",
     "start_time": "2024-10-29T03:23:02.647235Z"
    }
   },
   "source": [
    "import pandas as pd\n",
    "import numpy as np\n",
    "\n",
    "from sklearn.model_selection import train_test_split\n",
    "from sklearn.metrics import accuracy_score\n",
    "from sklearn.linear_model import LogisticRegression\n",
    "from sklearn.tree import DecisionTreeClassifier\n",
    "\n",
    "from xgboost import XGBClassifier"
   ],
   "outputs": [],
   "execution_count": 9
  },
  {
   "metadata": {
    "ExecuteTime": {
     "end_time": "2024-10-29T03:23:03.955411Z",
     "start_time": "2024-10-29T03:23:03.936061Z"
    }
   },
   "cell_type": "code",
   "source": [
    "data = pd.read_csv('titanic_prepared.csv')\n",
    "\n",
    "data.fillna(data.mean(), inplace=True)\n",
    "\n",
    "data.head()"
   ],
   "id": "2746158b89ea97f7",
   "outputs": [
    {
     "data": {
      "text/plain": [
       "   Unnamed: 0  sex  row_number  liters_drunk  drink  check_number  label  \\\n",
       "0           0    0        90.0           1.0      1          8092      1   \n",
       "1           1    0        81.0           4.0      1          4252      1   \n",
       "2           2    1        14.0           3.0      0          6913      1   \n",
       "3           3    1         0.0           1.0      0          8479      1   \n",
       "4           4    1        84.0           1.0      0          6279      0   \n",
       "\n",
       "   age_child  age_adult  age_old  morning    day  evening  \n",
       "0      False      False     True    False  False     True  \n",
       "1      False       True    False    False   True    False  \n",
       "2      False      False     True    False  False     True  \n",
       "3      False      False     True    False   True    False  \n",
       "4      False      False     True     True  False    False  "
      ],
      "text/html": [
       "<div>\n",
       "<style scoped>\n",
       "    .dataframe tbody tr th:only-of-type {\n",
       "        vertical-align: middle;\n",
       "    }\n",
       "\n",
       "    .dataframe tbody tr th {\n",
       "        vertical-align: top;\n",
       "    }\n",
       "\n",
       "    .dataframe thead th {\n",
       "        text-align: right;\n",
       "    }\n",
       "</style>\n",
       "<table border=\"1\" class=\"dataframe\">\n",
       "  <thead>\n",
       "    <tr style=\"text-align: right;\">\n",
       "      <th></th>\n",
       "      <th>Unnamed: 0</th>\n",
       "      <th>sex</th>\n",
       "      <th>row_number</th>\n",
       "      <th>liters_drunk</th>\n",
       "      <th>drink</th>\n",
       "      <th>check_number</th>\n",
       "      <th>label</th>\n",
       "      <th>age_child</th>\n",
       "      <th>age_adult</th>\n",
       "      <th>age_old</th>\n",
       "      <th>morning</th>\n",
       "      <th>day</th>\n",
       "      <th>evening</th>\n",
       "    </tr>\n",
       "  </thead>\n",
       "  <tbody>\n",
       "    <tr>\n",
       "      <th>0</th>\n",
       "      <td>0</td>\n",
       "      <td>0</td>\n",
       "      <td>90.0</td>\n",
       "      <td>1.0</td>\n",
       "      <td>1</td>\n",
       "      <td>8092</td>\n",
       "      <td>1</td>\n",
       "      <td>False</td>\n",
       "      <td>False</td>\n",
       "      <td>True</td>\n",
       "      <td>False</td>\n",
       "      <td>False</td>\n",
       "      <td>True</td>\n",
       "    </tr>\n",
       "    <tr>\n",
       "      <th>1</th>\n",
       "      <td>1</td>\n",
       "      <td>0</td>\n",
       "      <td>81.0</td>\n",
       "      <td>4.0</td>\n",
       "      <td>1</td>\n",
       "      <td>4252</td>\n",
       "      <td>1</td>\n",
       "      <td>False</td>\n",
       "      <td>True</td>\n",
       "      <td>False</td>\n",
       "      <td>False</td>\n",
       "      <td>True</td>\n",
       "      <td>False</td>\n",
       "    </tr>\n",
       "    <tr>\n",
       "      <th>2</th>\n",
       "      <td>2</td>\n",
       "      <td>1</td>\n",
       "      <td>14.0</td>\n",
       "      <td>3.0</td>\n",
       "      <td>0</td>\n",
       "      <td>6913</td>\n",
       "      <td>1</td>\n",
       "      <td>False</td>\n",
       "      <td>False</td>\n",
       "      <td>True</td>\n",
       "      <td>False</td>\n",
       "      <td>False</td>\n",
       "      <td>True</td>\n",
       "    </tr>\n",
       "    <tr>\n",
       "      <th>3</th>\n",
       "      <td>3</td>\n",
       "      <td>1</td>\n",
       "      <td>0.0</td>\n",
       "      <td>1.0</td>\n",
       "      <td>0</td>\n",
       "      <td>8479</td>\n",
       "      <td>1</td>\n",
       "      <td>False</td>\n",
       "      <td>False</td>\n",
       "      <td>True</td>\n",
       "      <td>False</td>\n",
       "      <td>True</td>\n",
       "      <td>False</td>\n",
       "    </tr>\n",
       "    <tr>\n",
       "      <th>4</th>\n",
       "      <td>4</td>\n",
       "      <td>1</td>\n",
       "      <td>84.0</td>\n",
       "      <td>1.0</td>\n",
       "      <td>0</td>\n",
       "      <td>6279</td>\n",
       "      <td>0</td>\n",
       "      <td>False</td>\n",
       "      <td>False</td>\n",
       "      <td>True</td>\n",
       "      <td>True</td>\n",
       "      <td>False</td>\n",
       "      <td>False</td>\n",
       "    </tr>\n",
       "  </tbody>\n",
       "</table>\n",
       "</div>"
      ]
     },
     "execution_count": 10,
     "metadata": {},
     "output_type": "execute_result"
    }
   ],
   "execution_count": 10
  },
  {
   "metadata": {
    "ExecuteTime": {
     "end_time": "2024-10-29T03:23:05.522102Z",
     "start_time": "2024-10-29T03:23:05.516661Z"
    }
   },
   "cell_type": "code",
   "source": [
    "train, test = train_test_split(data, test_size=0.1, random_state=0)\n",
    "\n",
    "X_train = train.drop(columns=['label'])\n",
    "y_train = train['label']\n",
    "\n",
    "X_test = test.drop(columns=['label'])\n",
    "y_test = test['label']"
   ],
   "id": "4f94bd6dcf2685e4",
   "outputs": [],
   "execution_count": 11
  },
  {
   "metadata": {
    "ExecuteTime": {
     "end_time": "2024-10-29T03:23:07.023969Z",
     "start_time": "2024-10-29T03:23:07.020235Z"
    }
   },
   "cell_type": "code",
   "source": [
    "models = {\n",
    "    \"Logistic Regression\": LogisticRegression(C=0.1, max_iter=200),\n",
    "    \"Decision Tree\": DecisionTreeClassifier(criterion='entropy', random_state=0),\n",
    "    \"XGBoost\": XGBClassifier(max_depth=2, n_estimators=40)\n",
    "}"
   ],
   "id": "71c49122c5252a34",
   "outputs": [],
   "execution_count": 12
  },
  {
   "metadata": {
    "ExecuteTime": {
     "end_time": "2024-10-29T03:23:17.297356Z",
     "start_time": "2024-10-29T03:23:16.993412Z"
    }
   },
   "cell_type": "code",
   "source": [
    "for name, model in models.items():\n",
    "    \n",
    "    models[name].fit(X_train, y_train)\n",
    "    \n",
    "    y_test_pred = models[name].predict(X_test)\n",
    "    accuracy = accuracy_score(y_test, y_test_pred)\n",
    "            \n",
    "    print(f\"{name}. Accuracy: {accuracy}\")"
   ],
   "id": "52b8e15b8890ae2a",
   "outputs": [
    {
     "name": "stdout",
     "output_type": "stream",
     "text": [
      "Logistic Regression. Accuracy: 0.8780120481927711\n",
      "Decision Tree. Accuracy: 0.8930722891566265\n",
      "XGBoost. Accuracy: 0.9051204819277109\n"
     ]
    }
   ],
   "execution_count": 14
  },
  {
   "metadata": {
    "ExecuteTime": {
     "end_time": "2024-10-29T03:23:19.805984Z",
     "start_time": "2024-10-29T03:23:19.801986Z"
    }
   },
   "cell_type": "code",
   "source": [
    "importances = models[\"Decision Tree\"].feature_importances_\n",
    "features = X_test.columns\n",
    "indices = np.argsort(importances)\n",
    "imp_f = sorted([i for i in zip(features[indices], importances[indices])], key=lambda x: -x[1]) "
   ],
   "id": "ee1eeab1faa39786",
   "outputs": [],
   "execution_count": 15
  },
  {
   "metadata": {
    "ExecuteTime": {
     "end_time": "2024-10-29T03:23:21.571604Z",
     "start_time": "2024-10-29T03:23:21.406636Z"
    }
   },
   "cell_type": "code",
   "source": [
    "imp_f = [[i[0] for i in imp_f][0], [i[0] for i in imp_f][1]]\n",
    "\n",
    "X_train = X_train[imp_f]\n",
    "X_test = X_test[imp_f]\n",
    "\n",
    "for name, model in models.items():\n",
    "    \n",
    "    models[name].fit(X_train, y_train)\n",
    "    \n",
    "    y_test_pred = models[name].predict(X_test)\n",
    "    accuracy = accuracy_score(y_test, y_test_pred)\n",
    "            \n",
    "    print(f\"{name}. Accuracy: {accuracy}\")"
   ],
   "id": "ff31384788e97af2",
   "outputs": [
    {
     "name": "stdout",
     "output_type": "stream",
     "text": [
      "Logistic Regression. Accuracy: 0.8810240963855421\n",
      "Decision Tree. Accuracy: 0.8810240963855421\n",
      "XGBoost. Accuracy: 0.8810240963855421\n"
     ]
    }
   ],
   "execution_count": 16
  }
 ],
 "metadata": {
  "kernelspec": {
   "display_name": "Python 3",
   "language": "python",
   "name": "python3"
  },
  "language_info": {
   "codemirror_mode": {
    "name": "ipython",
    "version": 2
   },
   "file_extension": ".py",
   "mimetype": "text/x-python",
   "name": "python",
   "nbconvert_exporter": "python",
   "pygments_lexer": "ipython2",
   "version": "2.7.6"
  }
 },
 "nbformat": 4,
 "nbformat_minor": 5
}
