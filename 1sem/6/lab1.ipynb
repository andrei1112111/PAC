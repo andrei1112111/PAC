{
 "cells": [
  {
   "cell_type": "code",
   "id": "initial_id",
   "metadata": {
    "collapsed": true,
    "ExecuteTime": {
     "end_time": "2024-10-15T03:14:30.497419Z",
     "start_time": "2024-10-15T03:14:30.494142Z"
    }
   },
   "source": [
    "import cv2\n",
    "import numpy as np\n",
    "import time"
   ],
   "outputs": [],
   "execution_count": 4
  },
  {
   "metadata": {
    "ExecuteTime": {
     "end_time": "2024-10-15T03:14:31.772176Z",
     "start_time": "2024-10-15T03:14:30.506967Z"
    }
   },
   "cell_type": "code",
   "source": [
    "cap = cv2.VideoCapture(0)\n",
    "\n",
    "ret, prev_frame = cap.read()\n",
    "\n",
    "prev_gray = cv2.cvtColor(prev_frame, cv2.COLOR_BGR2GRAY)\n",
    "prev_gray = cv2.GaussianBlur(prev_gray, (21, 21), 0)\n",
    "\n",
    "game_mode = \"Red\"\n",
    "\n",
    "last_event_time = time.time()\n",
    "event_interval = 5"
   ],
   "id": "15f9cc278fe511ae",
   "outputs": [],
   "execution_count": 5
  },
  {
   "metadata": {
    "ExecuteTime": {
     "end_time": "2024-10-15T03:15:01.655889Z",
     "start_time": "2024-10-15T03:14:31.795019Z"
    }
   },
   "cell_type": "code",
   "source": [
    "while True:\n",
    "    ret, frame = cap.read()\n",
    "    key = cv2.waitKey(20) & 0xff\n",
    "    \n",
    "    gray = cv2.cvtColor(frame, cv2.COLOR_BGR2GRAY)\n",
    "    gray = cv2.GaussianBlur(gray, (21, 21), 0)\n",
    "    \n",
    "    if game_mode == \"Red\":\n",
    "        delta = cv2.absdiff(prev_gray, gray)\n",
    "        thresh = cv2.threshold(delta, 25, 255, cv2.THRESH_BINARY)[1]\n",
    "        contours, _ = cv2.findContours(thresh, cv2.RETR_EXTERNAL, cv2.CHAIN_APPROX_SIMPLE)\n",
    "\n",
    "        motion_map = np.zeros_like(frame)    \n",
    "        for contour in contours:\n",
    "            if cv2.contourArea(contour) > 100:\n",
    "                (x, y, w, h) = cv2.boundingRect(contour)\n",
    "                cv2.rectangle(motion_map, (x, y), (x + w, y + h), (0, 0, 255), -1)\n",
    "\n",
    "        motion_overlay = cv2.addWeighted(frame, 0.5, motion_map, 0.5, 0)\n",
    "        static_overlay = np.zeros_like(frame)\n",
    "        frame = cv2.addWeighted(motion_overlay, 1, static_overlay, 1, 0)\n",
    "        \n",
    "    frame = cv2.putText(\n",
    "        frame, f\"{game_mode} color\", (50, 50), cv2.FONT_ITALIC, 1, (\n",
    "            0,\n",
    "            255 if game_mode == \"Green\" else 0,\n",
    "            255 if game_mode == \"Red\" else 0,\n",
    "        ), 2)\n",
    "\n",
    "    cv2.imshow(\"Motion Detection\", frame)\n",
    "    prev_gray = gray\n",
    "    if key == 27: # Esc\n",
    "        break\n",
    "        \n",
    "    current_time = time.time()\n",
    "    if current_time - last_event_time >= event_interval:\n",
    "        game_mode = \"Green\" if game_mode == \"Red\" else \"Red\"\n",
    "        last_event_time = current_time\n",
    "\n",
    "\n",
    "cap.release()\n",
    "cv2.destroyAllWindows()\n"
   ],
   "id": "4b03f295a3210a15",
   "outputs": [],
   "execution_count": 6
  },
  {
   "metadata": {
    "ExecuteTime": {
     "end_time": "2024-10-15T03:15:01.665855Z",
     "start_time": "2024-10-15T03:15:01.663501Z"
    }
   },
   "cell_type": "code",
   "source": "",
   "id": "17ae422a5057e3ec",
   "outputs": [],
   "execution_count": null
  }
 ],
 "metadata": {
  "kernelspec": {
   "display_name": "Python 3",
   "language": "python",
   "name": "python3"
  },
  "language_info": {
   "codemirror_mode": {
    "name": "ipython",
    "version": 2
   },
   "file_extension": ".py",
   "mimetype": "text/x-python",
   "name": "python",
   "nbconvert_exporter": "python",
   "pygments_lexer": "ipython2",
   "version": "2.7.6"
  }
 },
 "nbformat": 4,
 "nbformat_minor": 5
}
