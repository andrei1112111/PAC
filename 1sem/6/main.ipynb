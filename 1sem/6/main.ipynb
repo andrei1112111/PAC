{
 "cells": [
  {
   "cell_type": "code",
   "id": "initial_id",
   "metadata": {
    "collapsed": true,
    "ExecuteTime": {
     "end_time": "2024-10-15T03:09:53.121846Z",
     "start_time": "2024-10-15T03:09:52.706791Z"
    }
   },
   "source": [
    "import kagglehub\n",
    "import cv2\n",
    "import os"
   ],
   "outputs": [],
   "execution_count": 1
  },
  {
   "metadata": {
    "ExecuteTime": {
     "end_time": "2024-10-15T03:09:53.560157Z",
     "start_time": "2024-10-15T03:09:53.133964Z"
    }
   },
   "cell_type": "code",
   "source": [
    "# Download latest version\n",
    "path = kagglehub.dataset_download(\"vpapenko/nails-segmentation\")\n",
    "\n",
    "print(\"Path to dataset files:\", path)"
   ],
   "id": "94f7ebe7fa7c705f",
   "outputs": [
    {
     "name": "stdout",
     "output_type": "stream",
     "text": [
      "Warning: Looks like you're using an outdated `kagglehub` version, please consider updating (latest version: 0.3.1)\n",
      "Path to dataset files: /Users/andrejalekseevic/.cache/kagglehub/datasets/vpapenko/nails-segmentation/versions/1\n"
     ]
    }
   ],
   "execution_count": 2
  },
  {
   "metadata": {
    "ExecuteTime": {
     "end_time": "2024-10-15T03:09:53.684805Z",
     "start_time": "2024-10-15T03:09:53.680145Z"
    }
   },
   "cell_type": "code",
   "source": "\"\"\"1\"\"\"",
   "id": "a5683a02c102acc8",
   "outputs": [
    {
     "data": {
      "text/plain": [
       "'1'"
      ]
     },
     "execution_count": 3,
     "metadata": {},
     "output_type": "execute_result"
    }
   ],
   "execution_count": 3
  },
  {
   "metadata": {
    "ExecuteTime": {
     "end_time": "2024-10-15T03:09:53.699719Z",
     "start_time": "2024-10-15T03:09:53.694262Z"
    }
   },
   "cell_type": "code",
   "source": [
    "images_path = path + \"/images\"\n",
    "labels_path = path + \"/labels\"\n",
    "\n",
    "images = [i for i in os.walk(images_path)][0][2]\n",
    "labels = [i for i in os.walk(labels_path)][0][2]\n",
    "\n",
    "for i in range(len(images)):\n",
    "    if images[i] not in labels:\n",
    "        images.pop(i)\n",
    "\n",
    "data = [i for i in zip(images, labels)]\n",
    "print(data)"
   ],
   "id": "b0cb104d8386a640",
   "outputs": [
    {
     "name": "stdout",
     "output_type": "stream",
     "text": [
      "[('d97db2d2-18ff-456d-8d85-23bfb7109aef.jpg', 'd97db2d2-18ff-456d-8d85-23bfb7109aef.jpg'), ('bf93c2e2-7b5f-4108-ae85-4ef68564d418.jpg', 'bf93c2e2-7b5f-4108-ae85-4ef68564d418.jpg'), ('34404E67-4BB8-432E-863E-C1BEF5EB37E0.jpg', '34404E67-4BB8-432E-863E-C1BEF5EB37E0.jpg'), ('4c490eae-e402-11e8-97db-0242ac1c0002.jpg', '4c490eae-e402-11e8-97db-0242ac1c0002.jpg'), ('d61a32a0-db67-11e8-9658-0242ac1c0002.jpg', 'd61a32a0-db67-11e8-9658-0242ac1c0002.jpg'), ('b25b81b1-d562-4891-ae4f-83a82a2b64b5.jpg', 'b25b81b1-d562-4891-ae4f-83a82a2b64b5.jpg'), ('4c4a6402-e402-11e8-97db-0242ac1c0002.jpg', '4c4a6402-e402-11e8-97db-0242ac1c0002.jpg'), ('3493127D-7B19-4E50-94AE-2401BD2A91C8.jpg', '3493127D-7B19-4E50-94AE-2401BD2A91C8.jpg'), ('09aefeec-e05f-11e8-87a6-0242ac1c0002.jpg', '09aefeec-e05f-11e8-87a6-0242ac1c0002.jpg'), ('2C29D473-CCB4-458C-926B-99D0042161E6.jpg', '2C29D473-CCB4-458C-926B-99D0042161E6.jpg'), ('ABD5AB5C-E7CA-4420-A983-2161029ECC9E.jpg', 'ABD5AB5C-E7CA-4420-A983-2161029ECC9E.jpg'), ('4c478f3e-e402-11e8-97db-0242ac1c0002.jpg', '4c478f3e-e402-11e8-97db-0242ac1c0002.jpg'), ('4c472e18-e402-11e8-97db-0242ac1c0002.jpg', '4c472e18-e402-11e8-97db-0242ac1c0002.jpg'), ('4252e46c-e40f-4543-91ab-031917d46c5c.jpg', '4252e46c-e40f-4543-91ab-031917d46c5c.jpg'), ('da236f3a-8c82-4c64-9a7d-9b950fd8b47e.jpg', 'da236f3a-8c82-4c64-9a7d-9b950fd8b47e.jpg'), ('af5626a5-feb4-4b2a-8c57-152e443ea3dc.jpg', 'af5626a5-feb4-4b2a-8c57-152e443ea3dc.jpg'), ('5fad3947-76d7-4352-9329-4a92f898dd59.jpg', '5fad3947-76d7-4352-9329-4a92f898dd59.jpg'), ('917FB1CC-E132-497F-A463-46C61A84BB40.jpg', '917FB1CC-E132-497F-A463-46C61A84BB40.jpg'), ('C03527E3-ADED-423E-9F11-D797EA35E286.jpg', 'C03527E3-ADED-423E-9F11-D797EA35E286.jpg'), ('54108996-6DA8-48F9-93DF-7ABB92F64E03.jpg', '54108996-6DA8-48F9-93DF-7ABB92F64E03.jpg'), ('feb2c029-b89c-4ce5-b208-db2114516a40.jpg', 'feb2c029-b89c-4ce5-b208-db2114516a40.jpg'), ('4c47ee66-e402-11e8-97db-0242ac1c0002.jpg', '4c47ee66-e402-11e8-97db-0242ac1c0002.jpg'), ('2c376c66-9823-4874-869e-1e7f5c54ec7b.jpg', '2c376c66-9823-4874-869e-1e7f5c54ec7b.jpg'), ('865a1e90-7ad2-4ceb-b2a1-50b07875c5c7.jpg', '865a1e90-7ad2-4ceb-b2a1-50b07875c5c7.jpg'), ('4c484f8c-e402-11e8-97db-0242ac1c0002.jpg', '4c484f8c-e402-11e8-97db-0242ac1c0002.jpg'), ('4c4a0dd6-e402-11e8-97db-0242ac1c0002.jpg', '4c4a0dd6-e402-11e8-97db-0242ac1c0002.jpg'), ('d60153c0-db67-11e8-9658-0242ac1c0002.jpg', 'd60153c0-db67-11e8-9658-0242ac1c0002.jpg'), ('a3a73edd-1483-4413-addb-9a7264b5d853.jpg', 'a3a73edd-1483-4413-addb-9a7264b5d853.jpg'), ('d60f3ecc-db67-11e8-9658-0242ac1c0002.jpg', 'd60f3ecc-db67-11e8-9658-0242ac1c0002.jpg'), ('d6072ec6-db67-11e8-9658-0242ac1c0002.jpg', 'd6072ec6-db67-11e8-9658-0242ac1c0002.jpg'), ('7e9f5818-4425-4d8a-808a-4673d96fa250.jpg', '7e9f5818-4425-4d8a-808a-4673d96fa250.jpg'), ('5CBCC5AC-B638-4DFA-AA7B-2464FADFF2F7.jpg', '5CBCC5AC-B638-4DFA-AA7B-2464FADFF2F7.jpg'), ('d63890ec-db67-11e8-9658-0242ac1c0002.jpg', 'd63890ec-db67-11e8-9658-0242ac1c0002.jpg'), ('d60a5f06-db67-11e8-9658-0242ac1c0002.jpg', 'd60a5f06-db67-11e8-9658-0242ac1c0002.jpg'), ('d6358550-db67-11e8-9658-0242ac1c0002.jpg', 'd6358550-db67-11e8-9658-0242ac1c0002.jpg'), ('d633f320-db67-11e8-9658-0242ac1c0002.jpg', 'd633f320-db67-11e8-9658-0242ac1c0002.jpg'), ('d62b0cd8-db67-11e8-9658-0242ac1c0002.jpg', 'd62b0cd8-db67-11e8-9658-0242ac1c0002.jpg'), ('1eecab90-1a92-43a7-b952-0204384e1fae.jpg', '1eecab90-1a92-43a7-b952-0204384e1fae.jpg'), ('4c46b91a-e402-11e8-97db-0242ac1c0002.jpg', '4c46b91a-e402-11e8-97db-0242ac1c0002.jpg'), ('869CDA2E-8251-4880-89D6-9409CBC416F3.jpg', '869CDA2E-8251-4880-89D6-9409CBC416F3.jpg'), ('edff1324-0b02-4471-b449-14cea27f0094.jpg', 'edff1324-0b02-4471-b449-14cea27f0094.jpg'), ('41d83dbb-7c39-4d91-979e-eec5ff71b265.jpg', '41d83dbb-7c39-4d91-979e-eec5ff71b265.jpg'), ('9ABD7CB9-7617-4A66-8892-B335FDB0E89F.jpg', '9ABD7CB9-7617-4A66-8892-B335FDB0E89F.jpg'), ('d6303a64-db67-11e8-9658-0242ac1c0002.jpg', 'd6303a64-db67-11e8-9658-0242ac1c0002.jpg'), ('cc25f453-04ca-4c24-92bc-f26c5a94e78c.jpg', 'cc25f453-04ca-4c24-92bc-f26c5a94e78c.jpg'), ('964c11f9-fbe3-420e-8674-9bb356cb5d3f.jpg', '964c11f9-fbe3-420e-8674-9bb356cb5d3f.jpg'), ('4c48acb6-e402-11e8-97db-0242ac1c0002.jpg', '4c48acb6-e402-11e8-97db-0242ac1c0002.jpg'), ('d639e532-db67-11e8-9658-0242ac1c0002.jpg', 'd639e532-db67-11e8-9658-0242ac1c0002.jpg'), ('d6321726-db67-11e8-9658-0242ac1c0002.jpg', 'd6321726-db67-11e8-9658-0242ac1c0002.jpg'), ('F6F9B3E6-FA7B-4DAC-B08C-1AD19BC43A76.jpg', 'F6F9B3E6-FA7B-4DAC-B08C-1AD19BC43A76.jpg'), ('4c49b502-e402-11e8-97db-0242ac1c0002.jpg', '4c49b502-e402-11e8-97db-0242ac1c0002.jpg'), ('d61d6de4-db67-11e8-9658-0242ac1c0002.jpg', 'd61d6de4-db67-11e8-9658-0242ac1c0002.jpg')]\n"
     ]
    }
   ],
   "execution_count": 4
  },
  {
   "metadata": {
    "ExecuteTime": {
     "end_time": "2024-10-15T03:09:53.777456Z",
     "start_time": "2024-10-15T03:09:53.774273Z"
    }
   },
   "cell_type": "code",
   "source": "\"\"\"2, 3\"\"\"",
   "id": "da335e2ab72e1ee0",
   "outputs": [
    {
     "data": {
      "text/plain": [
       "'2, 3'"
      ]
     },
     "execution_count": 5,
     "metadata": {},
     "output_type": "execute_result"
    }
   ],
   "execution_count": 5
  },
  {
   "metadata": {
    "ExecuteTime": {
     "end_time": "2024-10-15T03:10:52.194765Z",
     "start_time": "2024-10-15T03:09:53.863159Z"
    }
   },
   "cell_type": "code",
   "source": [
    "i = 0\n",
    "li = True\n",
    "\n",
    "\n",
    "\n",
    "while True:\n",
    "    img = cv2.imread(images_path + \"/\" + data[i][0])\n",
    "    lbl = cv2.imread(labels_path + \"/\" + data[i][1])\n",
    "    \n",
    "    lbl_g = cv2.cvtColor(lbl, cv2.COLOR_RGB2GRAY)\n",
    "    _, thresh = cv2.threshold(lbl_g, 200, 255, cv2.THRESH_BINARY)\n",
    "    contours, hierarchy = cv2.findContours(thresh, cv2.RETR_TREE, cv2.CHAIN_APPROX_SIMPLE)\n",
    "    \n",
    "    img = cv2.drawContours(img, contours, -1, (0, 255, 0), 2)\n",
    "    lbl = cv2.drawContours(lbl, contours, -1, (0, 255, 0), 2)\n",
    "    \n",
    "    key = cv2.waitKey(20) & 0xff\n",
    "    if li:\n",
    "        cv2.imshow('img', img)\n",
    "    else:\n",
    "        cv2.imshow('lbl', lbl)\n",
    "    if key == 27: # Esc\n",
    "        if li:\n",
    "            cv2.destroyWindow('img')\n",
    "        else:\n",
    "            cv2.destroyWindow('lbl')\n",
    "        break\n",
    "    if key == 97:\n",
    "        if i == 0:\n",
    "            i = len(images) - 1\n",
    "        i -= 1\n",
    "    if key == 100:\n",
    "        if (i + 1) == len(images):\n",
    "            i = 0\n",
    "        i += 1\n",
    "    if key == 32:\n",
    "        if li:\n",
    "            cv2.destroyWindow('img')\n",
    "        else:\n",
    "            cv2.destroyWindow('lbl')\n",
    "        li = not li\n",
    "        \n",
    "cv2.destroyWindow('img')\n",
    "cv2.destroyWindow('lbl')"
   ],
   "id": "15409737f2d5823e",
   "outputs": [
    {
     "name": "stderr",
     "output_type": "stream",
     "text": [
      "2024-10-15 10:09:54.429 Python[19702:1773258] +[IMKClient subclass]: chose IMKClient_Legacy\n",
      "2024-10-15 10:09:54.429 Python[19702:1773258] +[IMKInputSession subclass]: chose IMKInputSession_Legacy\n",
      "2024-10-15 10:10:10.115 Python[19702:1773258] _TIPropertyValueIsValid called with 16 on nil context!\n",
      "2024-10-15 10:10:10.116 Python[19702:1773258] imkxpc_getApplicationProperty:reply: called with incorrect property value 16, bailing.\n",
      "2024-10-15 10:10:10.116 Python[19702:1773258] Text input context does not respond to _valueForTIProperty:\n",
      "2024-10-15 10:10:50.962 Python[19702:1773258] _TIPropertyValueIsValid called with 16 on nil context!\n",
      "2024-10-15 10:10:50.962 Python[19702:1773258] imkxpc_getApplicationProperty:reply: called with incorrect property value 16, bailing.\n",
      "2024-10-15 10:10:50.962 Python[19702:1773258] Text input context does not respond to _valueForTIProperty:\n"
     ]
    }
   ],
   "execution_count": 6
  },
  {
   "metadata": {
    "ExecuteTime": {
     "end_time": "2024-10-15T03:10:52.216188Z",
     "start_time": "2024-10-15T03:10:52.211366Z"
    }
   },
   "cell_type": "code",
   "source": "\"\"\"4\"\"\"",
   "id": "4a2e3e489ebca5ed",
   "outputs": [
    {
     "data": {
      "text/plain": [
       "'4'"
      ]
     },
     "execution_count": 7,
     "metadata": {},
     "output_type": "execute_result"
    }
   ],
   "execution_count": 7
  },
  {
   "metadata": {
    "ExecuteTime": {
     "end_time": "2024-10-15T03:10:54.991411Z",
     "start_time": "2024-10-15T03:10:52.296790Z"
    }
   },
   "cell_type": "code",
   "source": [
    "cap = cv2.VideoCapture('IMG_1044.MOV')\n",
    "while True:\n",
    "    ret, frame = cap.read()\n",
    "    \n",
    "    if not ret:\n",
    "        break\n",
    "    \n",
    "    key = cv2.waitKey(20) & 0xff\n",
    "    \n",
    "    frame_gray = cv2.cvtColor(frame, cv2.COLOR_RGB2GRAY)\n",
    "    \n",
    "    cv2.imshow('Frame', frame_gray)\n",
    "    if key == 27: # Esc\n",
    "        break\n",
    "        \n",
    "cv2.destroyWindow('Frame')\n",
    "cap.release()"
   ],
   "id": "4c506ce0c04b07ff",
   "outputs": [],
   "execution_count": 8
  },
  {
   "metadata": {
    "ExecuteTime": {
     "end_time": "2024-10-15T03:10:55.004272Z",
     "start_time": "2024-10-15T03:10:55.001871Z"
    }
   },
   "cell_type": "code",
   "source": "",
   "id": "e42c54462deac182",
   "outputs": [],
   "execution_count": null
  }
 ],
 "metadata": {
  "kernelspec": {
   "display_name": "Python 3",
   "language": "python",
   "name": "python3"
  },
  "language_info": {
   "codemirror_mode": {
    "name": "ipython",
    "version": 2
   },
   "file_extension": ".py",
   "mimetype": "text/x-python",
   "name": "python",
   "nbconvert_exporter": "python",
   "pygments_lexer": "ipython2",
   "version": "2.7.6"
  }
 },
 "nbformat": 4,
 "nbformat_minor": 5
}
